{
 "cells": [
  {
   "cell_type": "code",
   "execution_count": 2,
   "metadata": {},
   "outputs": [],
   "source": [
    "import pandas as pd\n",
    "import xml.etree.ElementTree as ET\n",
    "import os\n",
    "import matplotlib.pyplot as plt\n",
    "from PIL import Image, ImageDraw\n",
    "import tqdm"
   ]
  },
  {
   "cell_type": "markdown",
   "metadata": {},
   "source": [
    "필요한 경로 지정"
   ]
  },
  {
   "cell_type": "code",
   "execution_count": 3,
   "metadata": {},
   "outputs": [],
   "source": [
    "main_dir = r\"C:\\Users\\jungsu1\\Desktop\\BrainAI\"\n",
    "Training_label = os.path.join(main_dir, \"Training\\Label\\Training_Label\",)\n",
    "Validation_label = os.path.join(main_dir, \"Validation\\Label\\Training_Label_underwater photo\")\n",
    "Training_photo = os.path.join(main_dir, \"Training\\Train\\Training_src_underwater photo\")\n",
    "validation_photo = os.path.join(main_dir, \"Validation\\Train\\Training_src_underwater_photo\")"
   ]
  },
  {
   "cell_type": "markdown",
   "metadata": {},
   "source": [
    "파일을 불러올 수 있도록 파일들의 Training_label xml파일의 띄어씌기를 _로 변경"
   ]
  },
  {
   "cell_type": "code",
   "execution_count": 4,
   "metadata": {},
   "outputs": [],
   "source": [
    "for xml_space in os.listdir(Training_label): #Training_label의 폴더안에 있는 os.listdir를 사용해 폴더내 파일을 불러와 xml_space에 저장\n",
    "    old_folder = os.path.join(Training_label, xml_space) #r\n",
    "    new_folder = os.path.join(Training_label, xml_space.replace(\" \", \"_\"))\n",
    "    os.rename(old_folder, new_folder)\n"
   ]
  },
  {
   "cell_type": "code",
   "execution_count": 5,
   "metadata": {},
   "outputs": [],
   "source": [
    "t_list = []\n",
    "tlx = [Training_label, Validation_label]\n",
    "for go in tlx:\n",
    "       for xml_files in os.listdir(go): #Training_label의 폴더안에 있는 os.listdir를 사용해 폴더내 파일을 불러와 xml_files에 저장\n",
    "              paths = os.path.join(go, xml_files) #os의 path.join을 사용해 Training_label + xml_files 경로로 지정\n",
    "              t_list.append(paths) # 저장된 paths를 t_list에 추가"
   ]
  },
  {
   "cell_type": "code",
   "execution_count": 12,
   "metadata": {},
   "outputs": [
    {
     "name": "stdout",
     "output_type": "stream",
     "text": [
      "object의 개수 : 9\n",
      "\n",
      "bundle of rope의 Training의 영상의 갯수는 : 2540\n",
      "rope의 Training의 영상의 갯수는 : 3004\n",
      "circular fish trap의 Training의 영상의 갯수는 : 2116\n",
      "eel fish trap의 Training의 영상의 갯수는 : 1820\n",
      "fish net의 Training의 영상의 갯수는 : 1478\n",
      "rectangular fish trap의 Training의 영상의 갯수는 : 510\n",
      "spring fish trap의 Training의 영상의 갯수는 : 2616\n",
      "tire의 Training의 영상의 갯수는 : 4888\n",
      "wood의 Training의 영상의 갯수는 : 3780\n"
     ]
    }
   ],
   "source": [
    "\n",
    "object_list = []\n",
    "check_object_dict = {}\n",
    "for t_li in t_list:\n",
    "    tree = ET.parse(t_li)\n",
    "    root = tree.getroot()\n",
    "    for b in root.findall('object'):\n",
    "        for a in b.findall('name'):\n",
    "            ob_name = a.text\n",
    "            if(ob_name == \"othe objects\" or ob_name == \"other objects\"): # other objects는 제외(othe 와 other 두개가 있는 이유 object의 오타가 있어서)\n",
    "                continue\n",
    "            if(ob_name == \"bundle of ropes\"):\n",
    "                ob_name = \"bundle of rope\"\n",
    "            check_object_dict[ob_name] = check_object_dict.get(ob_name, 0) + 1 #check_object_list딕셔너리에 ob_name 키를 추가 만약 딕셔너리에서 ob_name이 없으면 0으로 기본값으로 사용한다 그리고 있다면 기존값을 가져와 +1을 한다(기본값 0도 포함)\n",
    "            object_list.append(ob_name) # object_list에 ob_name을 추가\n",
    "            obj = set(object_list) # object_list의 중복된 요소를 제거하기 위해 object를 set으로 변환\n",
    "\n",
    "print(f\"object의 개수 : {len(obj)}\\n\")\n",
    "for object_name, count in check_object_dict.items():\n",
    "    print(f\"{object_name}의 Trainingrhk Test의 영상의 갯수는 : {count}\")\n",
    "\n",
    "\n",
    "\n",
    "\n",
    "\n",
    "            "
   ]
  },
  {
   "cell_type": "code",
   "execution_count": null,
   "metadata": {},
   "outputs": [],
   "source": []
  }
 ],
 "metadata": {
  "kernelspec": {
   "display_name": "base",
   "language": "python",
   "name": "python3"
  },
  "language_info": {
   "codemirror_mode": {
    "name": "ipython",
    "version": 3
   },
   "file_extension": ".py",
   "mimetype": "text/x-python",
   "name": "python",
   "nbconvert_exporter": "python",
   "pygments_lexer": "ipython3",
   "version": "3.10.0"
  }
 },
 "nbformat": 4,
 "nbformat_minor": 2
}
